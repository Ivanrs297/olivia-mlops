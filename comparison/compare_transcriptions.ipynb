{
 "cells": [
  {
   "cell_type": "code",
   "execution_count": 16,
   "metadata": {},
   "outputs": [],
   "source": [
    "def print_with_newlines(text, max_characters_per_line=100):\n",
    "    lines = [text[i:i + max_characters_per_line] for i in range(0, len(text), max_characters_per_line)]\n",
    "    print(\"\\n\".join(lines))"
   ]
  },
  {
   "cell_type": "code",
   "execution_count": 17,
   "metadata": {},
   "outputs": [],
   "source": [
    "import json\n",
    "\n",
    "with open(\"F-511.json\", \"r\", encoding=\"utf-8\") as jsonfile:\n",
    "    t_org = json.load(jsonfile)\n",
    "\n",
    "with open(\"F-511_new.json\", \"r\", encoding=\"utf-8\") as jsonfile:\n",
    "    t_new = json.load(jsonfile)\n",
    "\n",
    "t_org_text = \"\".join([s[\"text\"] for s in t_org[\"segments\"]])\n",
    "t_new_text = \"\".join([s[\"text\"] for s in t_new[\"segments\"]])"
   ]
  },
  {
   "cell_type": "code",
   "execution_count": 18,
   "metadata": {},
   "outputs": [
    {
     "name": "stdout",
     "output_type": "stream",
     "text": [
      " Susana, mi nombre es Gustavo Montes, yo soy un nuevo saborado del Sincitucional, así es que a mí me\n",
      " va a tocar a sesorarte, bien es por una sesoria legal, ¿verdad? A partir de hoy, pues mis servicios\n",
      " son gratuitos, yo esto de dónde sabía, a tener cuatro y cuáles, cuáles con levo a partir del bar pa\n",
      "ra ayudarte en lo que necesites. Atomete a tres a una lección, a algún golpe, a algún ácico que es. \n",
      "Esta es embarosar por la intuña, la situación por la que está presentas al estómago en todo su emerg\n",
      "encia, necesitas atención médica, primero sosopchilio sobre 40 secícies. ¿Ya? ¿Ok? ¿Cuál es su nombr\n",
      "e completo? Y el más suzana, latines, reñar. ¿Ok, nagas con el lino? ¿Sí? Pues, mucha accentiva suza\n",
      "na. Un sal de cuuno, de la venta. ¿Qué lo obtiene más? veramente entonces. Eres del macográfica más,\n",
      " sesenta el disco. naturalmente, que se ha queme el himselfathers todo el día. ¿¿Ok? Viene sod Colum\n",
      "bus tan importante, studentında de trenas que te sobe Kobe 수jedic. ¿Pero en que hay un? Gracias, tie\n"
     ]
    }
   ],
   "source": [
    "print_with_newlines(t_org_text[:1000])"
   ]
  },
  {
   "cell_type": "code",
   "execution_count": 19,
   "metadata": {},
   "outputs": [
    {
     "name": "stdout",
     "output_type": "stream",
     "text": [
      " Susana, mi nombre es Gustavo Montes, yo soy uno de los abogados de esta institución, así es que a m\n",
      "í me va a tocar asesorarte, bien es por una asesoría legal, ¿verdad? A partir de hoy, pues, mis serv\n",
      "icios son gratuitos, yo estoy en un desabierto de nuevo a cuatro y pues cuantas conmigo a partir de \n",
      "hoy, va para ayudarte en lo que necesites Actualmente traes alguna lesión, algún golpe, alguna, así \n",
      "que te hizo ¿Estás embarazada actualmente? No La situación por la que te presentas en este momento e\n",
      "s una emergencia, necesitas atención médica, premiedros auxilios o te encuentras en crisis No ¿Cuál \n",
      "es tu nombre completo? Irma, Susana, la tienes reinagada Reinagas con mi liga? Sí ¿Tu fecha de nacim\n",
      "iento, Susana? 11 de junio del 90 ¿Qué edad tienes? 32 ¿Eres de nacionalidad mexicana? Sí ¿Nos diste\n",
      " en talisco? Sí ¿Actualmente vives aquí mismo en talisco todavía? Ok, tienes un teléfono de contacto\n",
      ", por favor 2311, 56, 41, 83 Gracias, ¿Tienes alguna o otra? No ¿De KSAV? No Ok, ¿Nos autorizas envi\n"
     ]
    }
   ],
   "source": [
    "print_with_newlines(t_new_text[:1000])"
   ]
  },
  {
   "cell_type": "code",
   "execution_count": 20,
   "metadata": {},
   "outputs": [],
   "source": [
    "import json\n",
    "\n",
    "with open(\"F-285.json\", \"r\", encoding=\"utf-8\") as jsonfile:\n",
    "    t_org = json.load(jsonfile)\n",
    "\n",
    "with open(\"F-285_new.json\", \"r\", encoding=\"utf-8\") as jsonfile:\n",
    "    t_new = json.load(jsonfile)\n",
    "\n",
    "t_org_text = \"\".join([s[\"text\"] for s in t_org[\"segments\"]])\n",
    "t_new_text = \"\".join([s[\"text\"] for s in t_new[\"segments\"]])"
   ]
  },
  {
   "cell_type": "markdown",
   "metadata": {},
   "source": [
    "Sin entrenamiento"
   ]
  },
  {
   "cell_type": "code",
   "execution_count": 21,
   "metadata": {},
   "outputs": [
    {
     "name": "stdout",
     "output_type": "stream",
     "text": [
      " Gracias a ti, este fonía, entonces como te compartía, vamos a aperturar un expediente donde se te v\n",
      "a a tomar datos personales los cuales se quedan resguardados de manera confidencial aquí en unida y \n",
      "también que me compartas que te trae a que con nosotros yo voy a iniciar a aplicar esta entrevista s\n",
      "i tú tienes algún lado de me lo puedes comentar en cualquier momento a partir de lo que te refiere r\n",
      "especto a nuestros servicios estos tampoco se te van a cobrar, no gracias a ti me intereses a ver si\n",
      " traes alguna lesión, ¿no? ¿no? ¿no? ¿Te encuentras en balazad en este momento? no, ¿cuál es tu fech\n",
      "a de nacimiento? lesa una vez de septembre, de ochenta de dosa, te identificas como femenina, mujer,\n",
      " gracias, tu nacionalidad, ¿dónde es que tu naciste? nacén México, y bueno nací en el estado, nací e\n",
      "n la General de México, ¿sí me había que ir con la taba de vacaciones por la suerte? Sí, ¿verdad? me\n",
      " he dicho que no tiene raricas entonces en tía de la tiva jalisco, el teléfono que toma de tu regist\n"
     ]
    }
   ],
   "source": [
    "print_with_newlines(t_org_text[:1000])"
   ]
  },
  {
   "cell_type": "markdown",
   "metadata": {},
   "source": [
    "Con entrenamiento"
   ]
  },
  {
   "cell_type": "code",
   "execution_count": 22,
   "metadata": {},
   "outputs": [
    {
     "name": "stdout",
     "output_type": "stream",
     "text": [
      " Gracias. Gracias a ti, Estefania. Entonces, como te compartía, vamos a aperturar un expediente dond\n",
      "e se te van a tomar datos personales, los cuales se quedan resguardados de manera confidencial aquí \n",
      "en la unidad y también que me compartas, que te traía que con nosotros. Yo voy a iniciar a aplicar e\n",
      "sta entrevista. Si tú tienes alguna duda, me lo puedes comentar en cualquier momento. Claro. Aparte \n",
      "de lo que te referí respecto a nuestros servicios, estos tampoco se te van a cobrar. No, gracias a t\n",
      "i. Me interesa saber si traes alguna lesión, alguna emergencia médica. No. Te encuentras embarazada \n",
      "en este momento. No. ¿Cuál es tu fecha de nacimiento? Diecinueve de septiembre, del ochenta y dos. ¿\n",
      "Te identificas como femenina, mujer? Sí. Gracias. ¿Tu nacionalidad? ¿Dónde es que tú naciste? Nací e\n",
      "n México, soy mexicana. ¿En qué estado? Nací en la Ciudad de México hace un día que no estaba de vac\n",
      "ación. Por la suerte? Sí. ¿Va a tomar medida de vida aquí? Radicas, entonces, entidad federativa, Ja\n"
     ]
    }
   ],
   "source": [
    "print_with_newlines(t_new_text[:1000])"
   ]
  }
 ],
 "metadata": {
  "kernelspec": {
   "display_name": "fine-tuning",
   "language": "python",
   "name": "python3"
  },
  "language_info": {
   "codemirror_mode": {
    "name": "ipython",
    "version": 3
   },
   "file_extension": ".py",
   "mimetype": "text/x-python",
   "name": "python",
   "nbconvert_exporter": "python",
   "pygments_lexer": "ipython3",
   "version": "3.8.17"
  },
  "orig_nbformat": 4
 },
 "nbformat": 4,
 "nbformat_minor": 2
}
