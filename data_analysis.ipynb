{
 "cells": [
  {
   "cell_type": "code",
   "execution_count": 1,
   "metadata": {},
   "outputs": [
    {
     "name": "stdout",
     "output_type": "stream",
     "text": [
      "F-248 : 314\n",
      "F-429 : 118\n",
      "F-448 : 124\n",
      "F-433 : 201\n",
      "F-252 : 177\n",
      "F-452 : 91\n",
      "F-459 : 123\n",
      "F-469 : 81\n",
      "F-250 : 170\n",
      "F-257 : 148\n",
      "F-485 : 131\n",
      "F-265 : 147\n",
      "F-444 : 104\n",
      "F-270 : 104\n",
      "F-258 : 163\n",
      "F-490 : 11\n",
      "F-271 : 51\n"
     ]
    }
   ],
   "source": [
    "import json\n",
    "import os\n",
    "\n",
    "current_directory = os.getcwd()\n",
    "\n",
    "with open(\"main.custom_segments.json\", \"r\", encoding=\"utf-8\") as jsonfile:\n",
    "    data = json.load(jsonfile)\n",
    "\n",
    "for item in data:\n",
    "    item[\"label\"] = str(item[\"label\"]).strip()\n",
    "\n",
    "\n",
    "def filter_item(item):\n",
    "    duration = item[\"end\"] - item[\"start\"]\n",
    "    test1 = duration <= 30 and duration > 3\n",
    "    test2 = item[\"state\"] == \"reviewed\"\n",
    "    test3 = len(str(item[\"label\"]).split()) > 1\n",
    "    return test1 and test2 and test3\n",
    "\n",
    "\n",
    "filtered_data = [item for item in data if filter_item(item)]\n",
    "\n",
    "count_dict = {}\n",
    "for item in filtered_data:\n",
    "    if item[\"source\"] in count_dict.keys():\n",
    "        count_dict[item[\"source\"]] += 1\n",
    "    else:\n",
    "        count_dict[item[\"source\"]] = 1\n",
    "\n",
    "_ = [print(key, \":\", count_dict[key]) for key in count_dict.keys()]"
   ]
  },
  {
   "cell_type": "code",
   "execution_count": 2,
   "metadata": {},
   "outputs": [
    {
     "name": "stdout",
     "output_type": "stream",
     "text": [
      "Total: 2258\n",
      "Test: 338\n",
      "Validation: 338\n",
      "Train 1582\n"
     ]
    }
   ],
   "source": [
    "count = sum([count_dict[key] for key in count_dict.keys()])\n",
    "test_count = int(count * 0.15)\n",
    "val_count = int(count * 0.15)\n",
    "train_count = count - (test_count + val_count)\n",
    "\n",
    "print(\"Total:\", count)\n",
    "print(\"Test:\", test_count)\n",
    "print(\"Validation:\", val_count)\n",
    "print(\"Train\", train_count)"
   ]
  },
  {
   "cell_type": "code",
   "execution_count": 3,
   "metadata": {},
   "outputs": [
    {
     "name": "stdout",
     "output_type": "stream",
     "text": [
      "Test basket 234\n",
      "Val basket 326\n",
      "Train basket 1698\n"
     ]
    }
   ],
   "source": [
    "sorted_audios = sorted(count_dict.keys(), key=lambda x: count_dict[x], reverse=True)\n",
    "\n",
    "test_audios = []\n",
    "curr = sorted_audios.pop()\n",
    "test_recount = sum([count_dict[item] for item in test_audios])\n",
    "while (test_recount + count_dict[curr]) < test_count:\n",
    "    test_audios.append(curr)\n",
    "    test_recount = sum([count_dict[item] for item in test_audios])\n",
    "    curr = sorted_audios.pop()\n",
    "\n",
    "val_audios = []\n",
    "val_recount = sum([count_dict[item] for item in val_audios])\n",
    "while (val_recount + count_dict[curr]) < val_count:\n",
    "    val_audios.append(curr)\n",
    "    val_recount = sum([count_dict[item] for item in val_audios])\n",
    "    curr = sorted_audios.pop()\n",
    "\n",
    "sorted_audios.append(curr)\n",
    "train_audios = sorted_audios\n",
    "\n",
    "print(\"Test basket\", sum([count_dict[item] for item in test_audios]))\n",
    "print(\"Val basket\", sum([count_dict[item] for item in val_audios]))\n",
    "print(\"Train basket\", sum([count_dict[item] for item in train_audios]))"
   ]
  },
  {
   "cell_type": "code",
   "execution_count": 4,
   "metadata": {},
   "outputs": [],
   "source": [
    "test_list, val_list, train_list = [], [], []\n",
    "for segment in filtered_data:\n",
    "    segment[\"word_count\"] = len(str(segment[\"label\"]).split())\n",
    "    if segment[\"source\"] in test_audios:\n",
    "        test_list.append(segment)\n",
    "    elif segment[\"source\"] in val_audios:\n",
    "        val_list.append(segment)\n",
    "    elif segment[\"source\"] in train_audios:\n",
    "        train_list.append(segment)"
   ]
  },
  {
   "cell_type": "code",
   "execution_count": 5,
   "metadata": {},
   "outputs": [
    {
     "data": {
      "text/plain": [
       "1698"
      ]
     },
     "execution_count": 5,
     "metadata": {},
     "output_type": "execute_result"
    }
   ],
   "source": [
    "len(train_list)"
   ]
  },
  {
   "cell_type": "code",
   "execution_count": 6,
   "metadata": {},
   "outputs": [
    {
     "data": {
      "image/png": "[encoded data removed]",
      "text/plain": [
       "<Figure size 640x480 with 1 Axes>"
      ]
     },
     "metadata": {},
     "output_type": "display_data"
    }
   ],
   "source": [
    "import matplotlib.pyplot as plt\n",
    "\n",
    "# Sample data (replace this with your own data)\n",
    "word_counts = [segment[\"word_count\"] for segment in filtered_data]\n",
    "\n",
    "# Count the occurrences of each item in the data\n",
    "item_counts = {item: word_counts.count(item) for item in set(word_counts)}\n",
    "\n",
    "# Convert the dictionary to two separate lists for items and their counts\n",
    "items = list(item_counts.keys())\n",
    "counts = list(item_counts.values())\n",
    "\n",
    "# Plot the count of items using Matplotlib\n",
    "plt.bar(items, counts)\n",
    "\n",
    "# Add labels and title\n",
    "plt.xlabel('Items')\n",
    "plt.ylabel('Count')\n",
    "plt.title('Count of Items')\n",
    "\n",
    "# Show the plot\n",
    "plt.show()"
   ]
  },
  {
   "cell_type": "code",
   "execution_count": 7,
   "metadata": {},
   "outputs": [
    {
     "data": {
      "image/png": "[encoded data removed]",
      "text/plain": [
       "<Figure size 640x480 with 1 Axes>"
      ]
     },
     "metadata": {},
     "output_type": "display_data"
    }
   ],
   "source": [
    "import matplotlib.pyplot as plt\n",
    "\n",
    "# Sample data (replace this with your own data)\n",
    "durations = [int(segment[\"end\"] - segment[\"start\"]) for segment in filtered_data]\n",
    "\n",
    "# Count the occurrences of each item in the data\n",
    "item_counts = {item: durations.count(item) for item in set(durations)}\n",
    "\n",
    "# Convert the dictionary to two separate lists for items and their counts\n",
    "items = list(item_counts.keys())\n",
    "counts = list(item_counts.values())\n",
    "\n",
    "# Plot the count of items using Matplotlib\n",
    "plt.bar(items, counts)\n",
    "\n",
    "# Add labels and title\n",
    "plt.xlabel('Items')\n",
    "plt.ylabel('Count')\n",
    "plt.title('Count of Items')\n",
    "\n",
    "# Show the plot\n",
    "plt.show()"
   ]
  },
  {
   "cell_type": "code",
   "execution_count": null,
   "metadata": {},
   "outputs": [],
   "source": []
  }
 ],
 "metadata": {
  "kernelspec": {
   "display_name": "fine-tuning",
   "language": "python",
   "name": "python3"
  },
  "language_info": {
   "codemirror_mode": {
    "name": "ipython",
    "version": 3
   },
   "file_extension": ".py",
   "mimetype": "text/x-python",
   "name": "python",
   "nbconvert_exporter": "python",
   "pygments_lexer": "ipython3",
   "version": "3.8.17"
  },
  "orig_nbformat": 4
 },
 "nbformat": 4,
 "nbformat_minor": 2
}
